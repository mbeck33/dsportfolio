{
  "nbformat": 4,
  "nbformat_minor": 0,
  "metadata": {
    "colab": {
      "name": "SOTUS2HardTryNewsGroups_ClassExample.ipynb",
      "provenance": [],
      "collapsed_sections": [],
      "include_colab_link": true
    },
    "kernelspec": {
      "name": "python3",
      "display_name": "Python 3"
    },
    "accelerator": "GPU"
  },
  "cells": [
    {
      "cell_type": "markdown",
      "metadata": {
        "id": "view-in-github",
        "colab_type": "text"
      },
      "source": [
        "<a href=\"https://colab.research.google.com/github/mbeck33/dsportfolio/blob/master/SOTUS2HardTryNewsGroups_ClassExample.ipynb\" target=\"_parent\"><img src=\"https://colab.research.google.com/assets/colab-badge.svg\" alt=\"Open In Colab\"/></a>"
      ]
    },
    {
      "cell_type": "markdown",
      "metadata": {
        "id": "gvYZuzUTuHIL",
        "colab_type": "text"
      },
      "source": [
        "# Sample NLP Code for IST 718\n",
        "\n"
      ]
    },
    {
      "cell_type": "code",
      "metadata": {
        "id": "eRESYFuyuGRK",
        "colab_type": "code",
        "colab": {}
      },
      "source": [
        "# A quick sample for using Universal Language Model Fine-Tuning for Text Classification\n",
        "# aka ULMFiT\n",
        "# Check out nlp.fast.ai for more\n",
        "\n",
        "# import libraries\n",
        "import fastai\n",
        "from fastai import *\n",
        "from fastai.text import * \n",
        "import pandas as pd\n",
        "import numpy as np\n",
        "from functools import partial\n",
        "import io\n",
        "import os"
      ],
      "execution_count": null,
      "outputs": []
    },
    {
      "cell_type": "code",
      "metadata": {
        "id": "d-CN4hrLtW0J",
        "colab_type": "code",
        "colab": {}
      },
      "source": [
        "!pip install torch_nightly -f https://download.pytorch.org/whl/nightly/cu92/torch_nightly.html\n",
        "!pip install fastai"
      ],
      "execution_count": null,
      "outputs": []
    },
    {
      "cell_type": "code",
      "metadata": {
        "id": "0qu20_oOukVq",
        "colab_type": "code",
        "colab": {
          "base_uri": "https://localhost:8080/",
          "height": 54
        },
        "outputId": "f830d0a5-941b-45c1-c38d-ce59399996e1"
      },
      "source": [
        "# OBTAIN\n",
        "\n",
        "from sklearn.datasets import fetch_20newsgroups\n",
        "dataset = fetch_20newsgroups(shuffle=True, random_state=1, remove=('headers', 'footers', 'quotes'))\n",
        "documents = dataset.data"
      ],
      "execution_count": null,
      "outputs": [
        {
          "output_type": "stream",
          "text": [
            "Downloading 20news dataset. This may take a few minutes.\n",
            "Downloading dataset from https://ndownloader.figshare.com/files/5975967 (14 MB)\n"
          ],
          "name": "stderr"
        }
      ]
    },
    {
      "cell_type": "code",
      "metadata": {
        "id": "cEBF_vQ2uuib",
        "colab_type": "code",
        "colab": {}
      },
      "source": [
        "# OBTAIN\n",
        "\n",
        "df = pd.DataFrame({'label':dataset.target, 'text':dataset.data})"
      ],
      "execution_count": null,
      "outputs": []
    },
    {
      "cell_type": "code",
      "metadata": {
        "id": "ovbcyLHKuy9K",
        "colab_type": "code",
        "colab": {
          "base_uri": "https://localhost:8080/",
          "height": 35
        },
        "outputId": "3354521b-62cb-4f32-8338-ff7d8a57607f"
      },
      "source": [
        "df.shape"
      ],
      "execution_count": null,
      "outputs": [
        {
          "output_type": "execute_result",
          "data": {
            "text/plain": [
              "(11314, 2)"
            ]
          },
          "metadata": {
            "tags": []
          },
          "execution_count": 4
        }
      ]
    },
    {
      "cell_type": "markdown",
      "metadata": {
        "id": "8KwtMcnzwKqB",
        "colab_type": "text"
      },
      "source": [
        "Let's try looking at just Politics and Windows articles - source?  https://kdd.ics.uci.edu/databases/20newsgroups/20newsgroups.data.html\n"
      ]
    },
    {
      "cell_type": "code",
      "metadata": {
        "id": "ZvKSB_Umv866",
        "colab_type": "code",
        "colab": {}
      },
      "source": [
        "# SCRUB\n",
        "\n",
        "df = df[df['label'].isin([5,18])]\n",
        "df = df.reset_index(drop = True)"
      ],
      "execution_count": null,
      "outputs": []
    },
    {
      "cell_type": "code",
      "metadata": {
        "id": "vEVfmjvHu8i6",
        "colab_type": "code",
        "colab": {
          "base_uri": "https://localhost:8080/",
          "height": 72
        },
        "outputId": "b6ab2efd-7b5f-40cc-dd50-a48858978adb"
      },
      "source": [
        "df['label'].value_counts()\n"
      ],
      "execution_count": null,
      "outputs": [
        {
          "output_type": "execute_result",
          "data": {
            "text/plain": [
              "5     593\n",
              "18    465\n",
              "Name: label, dtype: int64"
            ]
          },
          "metadata": {
            "tags": []
          },
          "execution_count": 6
        }
      ]
    },
    {
      "cell_type": "code",
      "metadata": {
        "id": "biDmK4RswW7x",
        "colab_type": "code",
        "colab": {}
      },
      "source": [
        "# SCRUB - TEXT\n",
        "\n",
        "df['text'] = df['text'].str.replace(\"[^a-zA-Z]\", \" \")\n"
      ],
      "execution_count": null,
      "outputs": []
    },
    {
      "cell_type": "code",
      "metadata": {
        "id": "i6Br13HAwgoJ",
        "colab_type": "code",
        "colab": {
          "base_uri": "https://localhost:8080/",
          "height": 54
        },
        "outputId": "2f48b218-5a90-4b1d-a920-3c616eaa9b75"
      },
      "source": [
        "# SCRUB - STOPWORDS\n",
        "import nltk\n",
        "nltk.download('stopwords')\n",
        "\n",
        "from nltk.corpus import stopwords \n",
        "stop_words = stopwords.words('english')"
      ],
      "execution_count": null,
      "outputs": [
        {
          "output_type": "stream",
          "text": [
            "[nltk_data] Downloading package stopwords to /root/nltk_data...\n",
            "[nltk_data]   Unzipping corpora/stopwords.zip.\n"
          ],
          "name": "stdout"
        }
      ]
    },
    {
      "cell_type": "code",
      "metadata": {
        "id": "Pum4OaDJwogq",
        "colab_type": "code",
        "colab": {}
      },
      "source": [
        "# SCRUB - TOKEN\n",
        "\n",
        "# tokenization \n",
        "tokenized_doc = df['text'].apply(lambda x: x.split())\n",
        "\n",
        "# remove stop-words \n",
        "tokenized_doc = tokenized_doc.apply(lambda x: [item for item in x if item not in stop_words])\n",
        "\n",
        "# de-tokenization \n",
        "detokenized_doc = [] \n",
        "for i in range(len(df)): \n",
        "    t = ' '.join(tokenized_doc[i]) \n",
        "    detokenized_doc.append(t) \n",
        "\n",
        "df['text'] = detokenized_doc"
      ],
      "execution_count": null,
      "outputs": []
    },
    {
      "cell_type": "code",
      "metadata": {
        "id": "1HD4DLrRwvXp",
        "colab_type": "code",
        "colab": {}
      },
      "source": [
        "# SCRUB - TEST & TRAIN\n",
        "\n",
        "from sklearn.model_selection import train_test_split\n",
        "\n",
        "# split data into training and validation set\n",
        "df_trn, df_val = train_test_split(df, stratify = df['label'], test_size = 0.4, random_state = 12)"
      ],
      "execution_count": null,
      "outputs": []
    },
    {
      "cell_type": "code",
      "metadata": {
        "id": "_s6-xmmyw0Da",
        "colab_type": "code",
        "colab": {
          "base_uri": "https://localhost:8080/",
          "height": 35
        },
        "outputId": "078f3c05-8d2b-4b12-8a24-d82d7f551bf0"
      },
      "source": [
        "# SCRUB - CHECK SPLIT\n",
        "\n",
        "df_trn.shape, df_val.shape"
      ],
      "execution_count": null,
      "outputs": [
        {
          "output_type": "execute_result",
          "data": {
            "text/plain": [
              "((634, 2), (424, 2))"
            ]
          },
          "metadata": {
            "tags": []
          },
          "execution_count": 11
        }
      ]
    },
    {
      "cell_type": "code",
      "metadata": {
        "id": "NZZT6dxSw7Qp",
        "colab_type": "code",
        "colab": {
          "base_uri": "https://localhost:8080/",
          "height": 17
        },
        "outputId": "d637e101-40ce-40e9-8144-fe025373871a"
      },
      "source": [
        "# MODEL\n",
        "\n",
        "# Language model data\n",
        "data_lm = TextLMDataBunch.from_df(train_df = df_trn, valid_df = df_val, path = \"\")\n",
        "\n",
        "# Classifier model data\n",
        "data_clas = TextClasDataBunch.from_df(path = \"\", train_df = df_trn, valid_df = df_val, vocab=data_lm.train_ds.vocab, bs=32)"
      ],
      "execution_count": null,
      "outputs": [
        {
          "output_type": "display_data",
          "data": {
            "text/html": [
              ""
            ],
            "text/plain": [
              "<IPython.core.display.HTML object>"
            ]
          },
          "metadata": {
            "tags": []
          }
        },
        {
          "output_type": "display_data",
          "data": {
            "text/html": [
              ""
            ],
            "text/plain": [
              "<IPython.core.display.HTML object>"
            ]
          },
          "metadata": {
            "tags": []
          }
        },
        {
          "output_type": "display_data",
          "data": {
            "text/html": [
              ""
            ],
            "text/plain": [
              "<IPython.core.display.HTML object>"
            ]
          },
          "metadata": {
            "tags": []
          }
        },
        {
          "output_type": "display_data",
          "data": {
            "text/html": [
              ""
            ],
            "text/plain": [
              "<IPython.core.display.HTML object>"
            ]
          },
          "metadata": {
            "tags": []
          }
        }
      ]
    },
    {
      "cell_type": "code",
      "metadata": {
        "id": "J8VHRyLCxDGy",
        "colab_type": "code",
        "colab": {
          "base_uri": "https://localhost:8080/",
          "height": 35
        },
        "outputId": "c566fddc-5caa-4538-b8e9-7d860e52621f"
      },
      "source": [
        "# MODEL - TUNE PRE-TRAINED MODEL\n",
        "\n",
        "learn = language_model_learner(data_lm, AWD_LSTM,pretrained=True, drop_mult=0.7)"
      ],
      "execution_count": null,
      "outputs": [
        {
          "output_type": "stream",
          "text": [
            "Downloading https://s3.amazonaws.com/fast-ai-modelzoo/wt103-fwd.tgz\n"
          ],
          "name": "stdout"
        },
        {
          "output_type": "display_data",
          "data": {
            "text/html": [
              ""
            ],
            "text/plain": [
              "<IPython.core.display.HTML object>"
            ]
          },
          "metadata": {
            "tags": []
          }
        }
      ]
    },
    {
      "cell_type": "code",
      "metadata": {
        "id": "MZD3hAQ_xIKj",
        "colab_type": "code",
        "colab": {
          "base_uri": "https://localhost:8080/",
          "height": 78
        },
        "outputId": "4e63958e-5cf9-4440-98ff-b83a4bd456f4"
      },
      "source": [
        "# MODEL - LEARNING RATE\n",
        "\n",
        "# train the learner object with learning rate = 1e-2\n",
        "learn.fit_one_cycle(1, 1e-2)"
      ],
      "execution_count": null,
      "outputs": [
        {
          "output_type": "display_data",
          "data": {
            "text/html": [
              "<table border=\"1\" class=\"dataframe\">\n",
              "  <thead>\n",
              "    <tr style=\"text-align: left;\">\n",
              "      <th>epoch</th>\n",
              "      <th>train_loss</th>\n",
              "      <th>valid_loss</th>\n",
              "      <th>accuracy</th>\n",
              "      <th>time</th>\n",
              "    </tr>\n",
              "  </thead>\n",
              "  <tbody>\n",
              "    <tr>\n",
              "      <td>0</td>\n",
              "      <td>6.853075</td>\n",
              "      <td>5.499538</td>\n",
              "      <td>0.200233</td>\n",
              "      <td>00:05</td>\n",
              "    </tr>\n",
              "  </tbody>\n",
              "</table>"
            ],
            "text/plain": [
              "<IPython.core.display.HTML object>"
            ]
          },
          "metadata": {
            "tags": []
          }
        }
      ]
    },
    {
      "cell_type": "code",
      "metadata": {
        "id": "P1fSbdJAxRFx",
        "colab_type": "code",
        "colab": {}
      },
      "source": [
        "# MODEL - SAVE\n",
        "\n",
        "learn.save_encoder('ft_enc')"
      ],
      "execution_count": null,
      "outputs": []
    },
    {
      "cell_type": "code",
      "metadata": {
        "id": "3K_W_guWxTii",
        "colab_type": "code",
        "colab": {
          "base_uri": "https://localhost:8080/",
          "height": 1000
        },
        "outputId": "87bc1710-8b83-4f6a-e904-47349684e77a"
      },
      "source": [
        "# MODEL - BUILD CLASSIFIER\n",
        "\n",
        "learn = text_classifier_learner(data_clas, AWD_LSTM,drop_mult=0.7)\n",
        "learn.load_encoder('ft_enc')"
      ],
      "execution_count": null,
      "outputs": [
        {
          "output_type": "execute_result",
          "data": {
            "text/plain": [
              "RNNLearner(data=TextClasDataBunch;\n",
              "\n",
              "Train: LabelList (634 items)\n",
              "x: TextList\n",
              "xxbos i recently compiled x r pl sources using gcc xxmaj sun xxmaj everything seems work fine xxmaj usually xxmaj but seemingly random times server hang i click mouse somewhere never happens back turned without warning freeze requiring server killed xxmaj sometimes run fine weeks sometimes xxunk xxmaj os frame buffer xxunk xxmaj has anyone seen ideas anything thanks jeff,xxbos xxmaj you right i xxunk xxmaj xxunk xxmaj xxunk xxmaj nevertheless i would suggest xxup you difference proposed xxup bill xxunk xxmaj congress executive order crammed xxup our xxup throats xxmaj do disagree xxmaj went xxmaj post xxmaj office xxmaj friday got passport apps,xxbos i two xxmaj motif xxmaj widgets i would like control one via keyboard mouse i set keyboard focus first widget soon i click mouse second one i lose keyboard focus first one xxmaj could kind soul show xxmaj thanks,xxbos a simple question xxmaj xperts xxmaj is possible use several x xxmaj terminals one mouse one keyboard xxmaj any suggestions xxmaj thanks rainer,xxbos xxmaj no i make distinction working survive paying xxunk xxmaj mother xxmaj nature form xxunk working xxmaj joe propertyowner option working xxmaj joe propertyowner stands earth work expects pay mother nature right survive xxmaj the property laws create layer parasites get xxunk fact people option except work xxunk i want people able get things need life xxmaj property ownership may ideal far better letting people get need live productive xxunk life xxmaj the first experiment xxmaj america property ownership denied caused starvation xxunk death xxmaj xxunk people know xxmaj pilgrims originally tried common property grow food common food store xxmaj many people know xxunk suffered first xxunk xxmaj after xxunk xxmaj pilgrims made property common xxmaj they shared work resulting crops went common store xxmaj after much debate new xxmaj governor xxmaj bradford xxunk land assigning plots family xxmaj according xxmaj xxunk d xxmaj westbrook xxmaj the change immediately justified increased industry xxunk larger xxunk xxunk experience common course condition tried sundry years amongst xxunk xxunk men may well xxunk xxunk xxunk xxmaj xxunk xxunk xxunk later times taking away property bringing community xxunk would make happy xxunk xxunk xxmaj god xxmaj for community far found breed much confusion discontent xxunk much employment would benefit xxunk xxmaj bradford blame failure xxunk basic xxunk men xxmaj he wrote seeing men corruption xxmaj god wisdom saw another course xxunk xxmaj in words according xxmaj westbrook xxmaj bradford found private enterprise suitable economic policy xxunk fallen state xxmaj let make mistake xxmaj pilgrims made xxmaj private property allows society xxunk alternative brings starvation poverty discontent\n",
              "y: CategoryList\n",
              "5,18,5,5,18\n",
              "Path: .;\n",
              "\n",
              "Valid: LabelList (424 items)\n",
              "x: TextList\n",
              "xxbos xxmaj there need include xxup vat previous levels xxup vat difference tax xxup vat x amount tax government receives levels x xxunk price end consumer xxmaj at xxunk levels difference xxup vat paid xxup vat received xxunk government a xxup vat xxunk preferable xxunk xxunk tax,xxbos xxmaj we might better former xxunk done nothing,xxbos xxmaj you xxunk communists i think xxmaj in practice communism solved problem killing anybody productive therefore raises xxunk questions rest group bunch xxunk xxmaj the mass xxunk xxunk xxup xxunk good instance a poor second best neighboring capitalist country people politically incorrect skill xxunk xxunk i often wonder xxmaj xxunk would done xxmaj xxunk presently xxmaj xxunk would forced remain xxmaj xxunk xxmaj would xxunk killed killed xxmaj best build wall locking citizens country load heavily attack xxunk xxunk xxunk land xxunk people xxunk die give everyone choice xxunk xxunk xxunk xxmaj this would bad science xxunk novel xxmaj east xxmaj germans actually done xxmaj the last person die xxunk wall i recall xxunk woman shot back xxmaj xxunk xxmaj xxunk going go trial fled socialists xxmaj xxunk xxmaj it good kind one xxunk opponents sometimes xxunk waste time,xxbos xxmaj dear xxmaj folks xxmaj it pleasure able announce release new freeware program xxmaj xavier xxunk video extension interviews xxmaj xavier extension xxup xxunk class interviews c class library adds xxunk capability interviews xxmaj it allows composite xxunk objects built media objects xxmaj specifically adds xxunk video objects classes available interviews without changing source code original classes though several configuration files interviews need changed via patch file xxmaj currently xxmaj xavier xxunk classes supported xxup sun workstations xxunk interface sparcstation xxmaj xavier tested following environments xxup sun xxmaj machine xxunk sparcstation xxup ipc xxup os xxup sun xxup os later c xxup sun c xxunk xxup xxunk xxup xxunk xxmaj machine xxup xxunk xxup os xxup xxunk xxup ux v xxmaj xxunk xxup xxunk xxmaj release xxmaj release c c xxmaj release xxmaj it obtained via anonymous ftp interviews stanford edu pub contrib xxmaj xavier large demo tar xxmaj xavier tar xxmaj we xxunk mailing list information regarding xxmaj xavier xxmaj if interested please contact xavier xxunk xxunk xxunk co jp i add e mail address list xxmaj reference xxmaj xxunk xxmaj xxunk xxmaj xxunk xxmaj xxunk xxmaj xxunk xxmaj xxunk xxmaj xxunk xxmaj video xxmaj extension xxmaj graphical xxmaj interface xxmaj toolkits xxmaj the xxmaj third xxmaj international xxmaj xxunk xxmaj network xxmaj operating xxmaj system xxmaj support xxmaj digital xxmaj xxunk xxmaj video xxmaj san xxmaj xxunk,xxbos i know anything xxunk patch i use following xxmaj xmodmap file run xinitrc via xmodmap xxup home xxmaj xmodmap course xxmaj type xxup unix keyboard xxmaj it bit xxunk force however xxmaj sun xxmaj type xxup unix keyboard xxunk xxmaj this xxunk xxunk keys properly xxmaj by default xxunk keys keypad xxmaj shift xxmaj up xxmaj shift xxmaj left xxmaj shift xxmaj right xxmaj shift xxmaj down work xxunk keys assigned keysym keycode xxmaj up keycode xxmaj left keycode xxmaj down keycode xxmaj right xxmaj now want xxmaj back xxmaj space key xxunk xxmaj delete keysym keycode xxmaj delete xxmaj other random xxunk default xxunk xxmaj print xxmaj screen key keycode xxunk xxmaj xxunk xxmaj print xxmaj break xxmaj xxunk key keycode xxmaj break xxmaj xxunk xxmaj alt xxmaj graph key keycode xxmaj mode switch pageup key keycode xxmaj prior xxunk key keycode xxmaj next xxmaj insert key keycode xxmaj insert xxmaj home xxmaj end keys xxmaj open xxmaj look xxmaj functions xxmaj stop key xxunk keysym xxmaj cancel keycode xxunk xxmaj again key xxunk xxmaj xxunk keycode xxunk xxmaj xxunk key keycode xxunk xxmaj xxunk key xxunk xxmaj xxunk keycode xxunk xxmaj front key keycode xxunk xxmaj copy key keycode xxunk xxmaj open key keycode xxunk xxmaj paste key keycode xxunk xxmaj find key xxunk xxmaj find keycode xxunk xxmaj cut key keycode xxunk\n",
              "y: CategoryList\n",
              "18,18,18,5,5\n",
              "Path: .;\n",
              "\n",
              "Test: None, model=SequentialRNN(\n",
              "  (0): MultiBatchEncoder(\n",
              "    (module): AWD_LSTM(\n",
              "      (encoder): Embedding(6824, 400, padding_idx=1)\n",
              "      (encoder_dp): EmbeddingDropout(\n",
              "        (emb): Embedding(6824, 400, padding_idx=1)\n",
              "      )\n",
              "      (rnns): ModuleList(\n",
              "        (0): WeightDropout(\n",
              "          (module): LSTM(400, 1152, batch_first=True)\n",
              "        )\n",
              "        (1): WeightDropout(\n",
              "          (module): LSTM(1152, 1152, batch_first=True)\n",
              "        )\n",
              "        (2): WeightDropout(\n",
              "          (module): LSTM(1152, 400, batch_first=True)\n",
              "        )\n",
              "      )\n",
              "      (input_dp): RNNDropout()\n",
              "      (hidden_dps): ModuleList(\n",
              "        (0): RNNDropout()\n",
              "        (1): RNNDropout()\n",
              "        (2): RNNDropout()\n",
              "      )\n",
              "    )\n",
              "  )\n",
              "  (1): PoolingLinearClassifier(\n",
              "    (layers): Sequential(\n",
              "      (0): BatchNorm1d(1200, eps=1e-05, momentum=0.1, affine=True, track_running_stats=True)\n",
              "      (1): Dropout(p=0.27999999999999997, inplace=False)\n",
              "      (2): Linear(in_features=1200, out_features=50, bias=True)\n",
              "      (3): ReLU(inplace=True)\n",
              "      (4): BatchNorm1d(50, eps=1e-05, momentum=0.1, affine=True, track_running_stats=True)\n",
              "      (5): Dropout(p=0.1, inplace=False)\n",
              "      (6): Linear(in_features=50, out_features=2, bias=True)\n",
              "    )\n",
              "  )\n",
              "), opt_func=functools.partial(<class 'torch.optim.adam.Adam'>, betas=(0.9, 0.99)), loss_func=FlattenedLoss of CrossEntropyLoss(), metrics=[<function accuracy at 0x7ff6530629d8>], true_wd=True, bn_wd=True, wd=0.01, train_bn=True, path=PosixPath('.'), model_dir='models', callback_fns=[functools.partial(<class 'fastai.basic_train.Recorder'>, add_time=True, silent=False)], callbacks=[RNNTrainer\n",
              "learn: RNNLearner(data=TextClasDataBunch;\n",
              "\n",
              "Train: LabelList (634 items)\n",
              "x: TextList\n",
              "xxbos i recently compiled x r pl sources using gcc xxmaj sun xxmaj everything seems work fine xxmaj usually xxmaj but seemingly random times server hang i click mouse somewhere never happens back turned without warning freeze requiring server killed xxmaj sometimes run fine weeks sometimes xxunk xxmaj os frame buffer xxunk xxmaj has anyone seen ideas anything thanks jeff,xxbos xxmaj you right i xxunk xxmaj xxunk xxmaj xxunk xxmaj nevertheless i would suggest xxup you difference proposed xxup bill xxunk xxmaj congress executive order crammed xxup our xxup throats xxmaj do disagree xxmaj went xxmaj post xxmaj office xxmaj friday got passport apps,xxbos i two xxmaj motif xxmaj widgets i would like control one via keyboard mouse i set keyboard focus first widget soon i click mouse second one i lose keyboard focus first one xxmaj could kind soul show xxmaj thanks,xxbos a simple question xxmaj xperts xxmaj is possible use several x xxmaj terminals one mouse one keyboard xxmaj any suggestions xxmaj thanks rainer,xxbos xxmaj no i make distinction working survive paying xxunk xxmaj mother xxmaj nature form xxunk working xxmaj joe propertyowner option working xxmaj joe propertyowner stands earth work expects pay mother nature right survive xxmaj the property laws create layer parasites get xxunk fact people option except work xxunk i want people able get things need life xxmaj property ownership may ideal far better letting people get need live productive xxunk life xxmaj the first experiment xxmaj america property ownership denied caused starvation xxunk death xxmaj xxunk people know xxmaj pilgrims originally tried common property grow food common food store xxmaj many people know xxunk suffered first xxunk xxmaj after xxunk xxmaj pilgrims made property common xxmaj they shared work resulting crops went common store xxmaj after much debate new xxmaj governor xxmaj bradford xxunk land assigning plots family xxmaj according xxmaj xxunk d xxmaj westbrook xxmaj the change immediately justified increased industry xxunk larger xxunk xxunk experience common course condition tried sundry years amongst xxunk xxunk men may well xxunk xxunk xxunk xxmaj xxunk xxunk xxunk later times taking away property bringing community xxunk would make happy xxunk xxunk xxmaj god xxmaj for community far found breed much confusion discontent xxunk much employment would benefit xxunk xxmaj bradford blame failure xxunk basic xxunk men xxmaj he wrote seeing men corruption xxmaj god wisdom saw another course xxunk xxmaj in words according xxmaj westbrook xxmaj bradford found private enterprise suitable economic policy xxunk fallen state xxmaj let make mistake xxmaj pilgrims made xxmaj private property allows society xxunk alternative brings starvation poverty discontent\n",
              "y: CategoryList\n",
              "5,18,5,5,18\n",
              "Path: .;\n",
              "\n",
              "Valid: LabelList (424 items)\n",
              "x: TextList\n",
              "xxbos xxmaj there need include xxup vat previous levels xxup vat difference tax xxup vat x amount tax government receives levels x xxunk price end consumer xxmaj at xxunk levels difference xxup vat paid xxup vat received xxunk government a xxup vat xxunk preferable xxunk xxunk tax,xxbos xxmaj we might better former xxunk done nothing,xxbos xxmaj you xxunk communists i think xxmaj in practice communism solved problem killing anybody productive therefore raises xxunk questions rest group bunch xxunk xxmaj the mass xxunk xxunk xxup xxunk good instance a poor second best neighboring capitalist country people politically incorrect skill xxunk xxunk i often wonder xxmaj xxunk would done xxmaj xxunk presently xxmaj xxunk would forced remain xxmaj xxunk xxmaj would xxunk killed killed xxmaj best build wall locking citizens country load heavily attack xxunk xxunk xxunk land xxunk people xxunk die give everyone choice xxunk xxunk xxunk xxmaj this would bad science xxunk novel xxmaj east xxmaj germans actually done xxmaj the last person die xxunk wall i recall xxunk woman shot back xxmaj xxunk xxmaj xxunk going go trial fled socialists xxmaj xxunk xxmaj it good kind one xxunk opponents sometimes xxunk waste time,xxbos xxmaj dear xxmaj folks xxmaj it pleasure able announce release new freeware program xxmaj xavier xxunk video extension interviews xxmaj xavier extension xxup xxunk class interviews c class library adds xxunk capability interviews xxmaj it allows composite xxunk objects built media objects xxmaj specifically adds xxunk video objects classes available interviews without changing source code original classes though several configuration files interviews need changed via patch file xxmaj currently xxmaj xavier xxunk classes supported xxup sun workstations xxunk interface sparcstation xxmaj xavier tested following environments xxup sun xxmaj machine xxunk sparcstation xxup ipc xxup os xxup sun xxup os later c xxup sun c xxunk xxup xxunk xxup xxunk xxmaj machine xxup xxunk xxup os xxup xxunk xxup ux v xxmaj xxunk xxup xxunk xxmaj release xxmaj release c c xxmaj release xxmaj it obtained via anonymous ftp interviews stanford edu pub contrib xxmaj xavier large demo tar xxmaj xavier tar xxmaj we xxunk mailing list information regarding xxmaj xavier xxmaj if interested please contact xavier xxunk xxunk xxunk co jp i add e mail address list xxmaj reference xxmaj xxunk xxmaj xxunk xxmaj xxunk xxmaj xxunk xxmaj xxunk xxmaj xxunk xxmaj xxunk xxmaj video xxmaj extension xxmaj graphical xxmaj interface xxmaj toolkits xxmaj the xxmaj third xxmaj international xxmaj xxunk xxmaj network xxmaj operating xxmaj system xxmaj support xxmaj digital xxmaj xxunk xxmaj video xxmaj san xxmaj xxunk,xxbos i know anything xxunk patch i use following xxmaj xmodmap file run xinitrc via xmodmap xxup home xxmaj xmodmap course xxmaj type xxup unix keyboard xxmaj it bit xxunk force however xxmaj sun xxmaj type xxup unix keyboard xxunk xxmaj this xxunk xxunk keys properly xxmaj by default xxunk keys keypad xxmaj shift xxmaj up xxmaj shift xxmaj left xxmaj shift xxmaj right xxmaj shift xxmaj down work xxunk keys assigned keysym keycode xxmaj up keycode xxmaj left keycode xxmaj down keycode xxmaj right xxmaj now want xxmaj back xxmaj space key xxunk xxmaj delete keysym keycode xxmaj delete xxmaj other random xxunk default xxunk xxmaj print xxmaj screen key keycode xxunk xxmaj xxunk xxmaj print xxmaj break xxmaj xxunk key keycode xxmaj break xxmaj xxunk xxmaj alt xxmaj graph key keycode xxmaj mode switch pageup key keycode xxmaj prior xxunk key keycode xxmaj next xxmaj insert key keycode xxmaj insert xxmaj home xxmaj end keys xxmaj open xxmaj look xxmaj functions xxmaj stop key xxunk keysym xxmaj cancel keycode xxunk xxmaj again key xxunk xxmaj xxunk keycode xxunk xxmaj xxunk key keycode xxunk xxmaj xxunk key xxunk xxmaj xxunk keycode xxunk xxmaj front key keycode xxunk xxmaj copy key keycode xxunk xxmaj open key keycode xxunk xxmaj paste key keycode xxunk xxmaj find key xxunk xxmaj find keycode xxunk xxmaj cut key keycode xxunk\n",
              "y: CategoryList\n",
              "18,18,18,5,5\n",
              "Path: .;\n",
              "\n",
              "Test: None, model=SequentialRNN(\n",
              "  (0): MultiBatchEncoder(\n",
              "    (module): AWD_LSTM(\n",
              "      (encoder): Embedding(6824, 400, padding_idx=1)\n",
              "      (encoder_dp): EmbeddingDropout(\n",
              "        (emb): Embedding(6824, 400, padding_idx=1)\n",
              "      )\n",
              "      (rnns): ModuleList(\n",
              "        (0): WeightDropout(\n",
              "          (module): LSTM(400, 1152, batch_first=True)\n",
              "        )\n",
              "        (1): WeightDropout(\n",
              "          (module): LSTM(1152, 1152, batch_first=True)\n",
              "        )\n",
              "        (2): WeightDropout(\n",
              "          (module): LSTM(1152, 400, batch_first=True)\n",
              "        )\n",
              "      )\n",
              "      (input_dp): RNNDropout()\n",
              "      (hidden_dps): ModuleList(\n",
              "        (0): RNNDropout()\n",
              "        (1): RNNDropout()\n",
              "        (2): RNNDropout()\n",
              "      )\n",
              "    )\n",
              "  )\n",
              "  (1): PoolingLinearClassifier(\n",
              "    (layers): Sequential(\n",
              "      (0): BatchNorm1d(1200, eps=1e-05, momentum=0.1, affine=True, track_running_stats=True)\n",
              "      (1): Dropout(p=0.27999999999999997, inplace=False)\n",
              "      (2): Linear(in_features=1200, out_features=50, bias=True)\n",
              "      (3): ReLU(inplace=True)\n",
              "      (4): BatchNorm1d(50, eps=1e-05, momentum=0.1, affine=True, track_running_stats=True)\n",
              "      (5): Dropout(p=0.1, inplace=False)\n",
              "      (6): Linear(in_features=50, out_features=2, bias=True)\n",
              "    )\n",
              "  )\n",
              "), opt_func=functools.partial(<class 'torch.optim.adam.Adam'>, betas=(0.9, 0.99)), loss_func=FlattenedLoss of CrossEntropyLoss(), metrics=[<function accuracy at 0x7ff6530629d8>], true_wd=True, bn_wd=True, wd=0.01, train_bn=True, path=PosixPath('.'), model_dir='models', callback_fns=[functools.partial(<class 'fastai.basic_train.Recorder'>, add_time=True, silent=False)], callbacks=[...], layer_groups=[Sequential(\n",
              "  (0): Embedding(6824, 400, padding_idx=1)\n",
              "  (1): EmbeddingDropout(\n",
              "    (emb): Embedding(6824, 400, padding_idx=1)\n",
              "  )\n",
              "), Sequential(\n",
              "  (0): WeightDropout(\n",
              "    (module): LSTM(400, 1152, batch_first=True)\n",
              "  )\n",
              "  (1): RNNDropout()\n",
              "), Sequential(\n",
              "  (0): WeightDropout(\n",
              "    (module): LSTM(1152, 1152, batch_first=True)\n",
              "  )\n",
              "  (1): RNNDropout()\n",
              "), Sequential(\n",
              "  (0): WeightDropout(\n",
              "    (module): LSTM(1152, 400, batch_first=True)\n",
              "  )\n",
              "  (1): RNNDropout()\n",
              "), Sequential(\n",
              "  (0): PoolingLinearClassifier(\n",
              "    (layers): Sequential(\n",
              "      (0): BatchNorm1d(1200, eps=1e-05, momentum=0.1, affine=True, track_running_stats=True)\n",
              "      (1): Dropout(p=0.27999999999999997, inplace=False)\n",
              "      (2): Linear(in_features=1200, out_features=50, bias=True)\n",
              "      (3): ReLU(inplace=True)\n",
              "      (4): BatchNorm1d(50, eps=1e-05, momentum=0.1, affine=True, track_running_stats=True)\n",
              "      (5): Dropout(p=0.1, inplace=False)\n",
              "      (6): Linear(in_features=50, out_features=2, bias=True)\n",
              "    )\n",
              "  )\n",
              ")], add_time=True, silent=False)\n",
              "alpha: 2.0\n",
              "beta: 1.0], layer_groups=[Sequential(\n",
              "  (0): Embedding(6824, 400, padding_idx=1)\n",
              "  (1): EmbeddingDropout(\n",
              "    (emb): Embedding(6824, 400, padding_idx=1)\n",
              "  )\n",
              "), Sequential(\n",
              "  (0): WeightDropout(\n",
              "    (module): LSTM(400, 1152, batch_first=True)\n",
              "  )\n",
              "  (1): RNNDropout()\n",
              "), Sequential(\n",
              "  (0): WeightDropout(\n",
              "    (module): LSTM(1152, 1152, batch_first=True)\n",
              "  )\n",
              "  (1): RNNDropout()\n",
              "), Sequential(\n",
              "  (0): WeightDropout(\n",
              "    (module): LSTM(1152, 400, batch_first=True)\n",
              "  )\n",
              "  (1): RNNDropout()\n",
              "), Sequential(\n",
              "  (0): PoolingLinearClassifier(\n",
              "    (layers): Sequential(\n",
              "      (0): BatchNorm1d(1200, eps=1e-05, momentum=0.1, affine=True, track_running_stats=True)\n",
              "      (1): Dropout(p=0.27999999999999997, inplace=False)\n",
              "      (2): Linear(in_features=1200, out_features=50, bias=True)\n",
              "      (3): ReLU(inplace=True)\n",
              "      (4): BatchNorm1d(50, eps=1e-05, momentum=0.1, affine=True, track_running_stats=True)\n",
              "      (5): Dropout(p=0.1, inplace=False)\n",
              "      (6): Linear(in_features=50, out_features=2, bias=True)\n",
              "    )\n",
              "  )\n",
              ")], add_time=True, silent=False)"
            ]
          },
          "metadata": {
            "tags": []
          },
          "execution_count": 21
        }
      ]
    },
    {
      "cell_type": "code",
      "metadata": {
        "id": "KMuObysdxePL",
        "colab_type": "code",
        "colab": {
          "base_uri": "https://localhost:8080/",
          "height": 78
        },
        "outputId": "0db38a09-389f-464e-a167-fd76d1698ebe"
      },
      "source": [
        "# MODEL - FIT\n",
        "\n",
        "learn.fit_one_cycle(1, 1e-2)"
      ],
      "execution_count": null,
      "outputs": [
        {
          "output_type": "display_data",
          "data": {
            "text/html": [
              "<table border=\"1\" class=\"dataframe\">\n",
              "  <thead>\n",
              "    <tr style=\"text-align: left;\">\n",
              "      <th>epoch</th>\n",
              "      <th>train_loss</th>\n",
              "      <th>valid_loss</th>\n",
              "      <th>accuracy</th>\n",
              "      <th>time</th>\n",
              "    </tr>\n",
              "  </thead>\n",
              "  <tbody>\n",
              "    <tr>\n",
              "      <td>0</td>\n",
              "      <td>0.335721</td>\n",
              "      <td>0.253580</td>\n",
              "      <td>0.889151</td>\n",
              "      <td>00:08</td>\n",
              "    </tr>\n",
              "  </tbody>\n",
              "</table>"
            ],
            "text/plain": [
              "<IPython.core.display.HTML object>"
            ]
          },
          "metadata": {
            "tags": []
          }
        }
      ]
    },
    {
      "cell_type": "code",
      "metadata": {
        "id": "3eW6S5agxmBz",
        "colab_type": "code",
        "colab": {
          "base_uri": "https://localhost:8080/",
          "height": 138
        },
        "outputId": "a9aaaab7-bf82-45bc-b436-fc4b709f17a3"
      },
      "source": [
        "# MODEL - EVALUATE\n",
        "\n",
        "preds, targets = learn.get_preds()\n",
        "\n",
        "predictions = np.argmax(preds, axis = 1)\n",
        "pd.crosstab(predictions, targets)"
      ],
      "execution_count": null,
      "outputs": [
        {
          "output_type": "display_data",
          "data": {
            "text/html": [
              ""
            ],
            "text/plain": [
              "<IPython.core.display.HTML object>"
            ]
          },
          "metadata": {
            "tags": []
          }
        },
        {
          "output_type": "execute_result",
          "data": {
            "text/html": [
              "<div>\n",
              "<style scoped>\n",
              "    .dataframe tbody tr th:only-of-type {\n",
              "        vertical-align: middle;\n",
              "    }\n",
              "\n",
              "    .dataframe tbody tr th {\n",
              "        vertical-align: top;\n",
              "    }\n",
              "\n",
              "    .dataframe thead th {\n",
              "        text-align: right;\n",
              "    }\n",
              "</style>\n",
              "<table border=\"1\" class=\"dataframe\">\n",
              "  <thead>\n",
              "    <tr style=\"text-align: right;\">\n",
              "      <th>col_0</th>\n",
              "      <th>0</th>\n",
              "      <th>1</th>\n",
              "    </tr>\n",
              "    <tr>\n",
              "      <th>row_0</th>\n",
              "      <th></th>\n",
              "      <th></th>\n",
              "    </tr>\n",
              "  </thead>\n",
              "  <tbody>\n",
              "    <tr>\n",
              "      <th>0</th>\n",
              "      <td>234</td>\n",
              "      <td>43</td>\n",
              "    </tr>\n",
              "    <tr>\n",
              "      <th>1</th>\n",
              "      <td>4</td>\n",
              "      <td>143</td>\n",
              "    </tr>\n",
              "  </tbody>\n",
              "</table>\n",
              "</div>"
            ],
            "text/plain": [
              "col_0    0    1\n",
              "row_0          \n",
              "0      234   43\n",
              "1        4  143"
            ]
          },
          "metadata": {
            "tags": []
          },
          "execution_count": 23
        }
      ]
    },
    {
      "cell_type": "code",
      "metadata": {
        "id": "EfeO_afK5Yk5",
        "colab_type": "code",
        "colab": {
          "base_uri": "https://localhost:8080/",
          "height": 345
        },
        "outputId": "576422e2-2e55-4532-933c-e5d15f7821e1"
      },
      "source": [
        ""
      ],
      "execution_count": null,
      "outputs": [
        {
          "output_type": "execute_result",
          "data": {
            "text/plain": [
              "tensor([1, 1, 1, 0, 0, 1, 0, 1, 1, 0, 0, 0, 0, 0, 0, 1, 1, 0, 0, 1, 1, 0, 0, 1,\n",
              "        1, 1, 0, 1, 0, 1, 1, 1, 0, 0, 1, 1, 1, 0, 0, 1, 1, 0, 1, 0, 0, 0, 0, 1,\n",
              "        1, 1, 0, 0, 1, 0, 0, 0, 0, 1, 1, 0, 1, 1, 0, 0, 1, 0, 1, 0, 1, 0, 1, 1,\n",
              "        0, 0, 0, 0, 0, 0, 0, 1, 0, 0, 0, 1, 0, 0, 0, 1, 1, 0, 0, 0, 0, 0, 1, 0,\n",
              "        0, 0, 1, 1, 0, 0, 0, 0, 0, 0, 0, 1, 0, 0, 0, 1, 0, 1, 0, 0, 1, 0, 0, 0,\n",
              "        0, 0, 0, 1, 1, 0, 1, 0, 1, 0, 1, 0, 0, 0, 1, 1, 1, 0, 1, 0, 1, 1, 1, 0,\n",
              "        0, 0, 0, 0, 1, 0, 1, 1, 1, 1, 1, 0, 0, 1, 1, 0, 0, 1, 1, 1, 0, 1, 0, 1,\n",
              "        0, 1, 1, 1, 1, 1, 0, 1, 1, 1, 0, 1, 1, 0, 1, 0, 0, 0, 0, 1, 0, 0, 0, 0,\n",
              "        0, 0, 0, 0, 0, 1, 1, 0, 0, 0, 0, 1, 0, 0, 1, 0, 0, 0, 1, 0, 0, 1, 1, 1,\n",
              "        0, 0, 0, 0, 1, 1, 1, 0, 0, 1, 0, 1, 1, 1, 0, 1, 0, 0, 1, 1, 1, 0, 1, 1,\n",
              "        1, 0, 1, 0, 0, 0, 1, 0, 0, 1, 0, 0, 1, 1, 0, 0, 0, 1, 0, 0, 1, 1, 1, 0,\n",
              "        0, 1, 0, 0, 1, 0, 1, 1, 1, 0, 0, 1, 0, 1, 1, 0, 0, 1, 1, 0, 0, 1, 1, 0,\n",
              "        0, 1, 1, 0, 1, 1, 0, 1, 0, 1, 0, 0, 1, 0, 0, 0, 0, 1, 0, 0, 0, 0, 1, 0,\n",
              "        0, 1, 1, 1, 1, 0, 1, 0, 1, 1, 1, 1, 0, 0, 1, 1, 1, 1, 0, 1, 0, 0, 0, 0,\n",
              "        1, 1, 0, 1, 0, 1, 1, 0, 0, 0, 0, 1, 1, 1, 0, 1, 1, 0, 1, 1, 0, 0, 1, 0,\n",
              "        0, 0, 0, 1, 0, 1, 0, 0, 1, 0, 0, 0, 0, 0, 0, 0, 0, 0, 0, 0, 1, 1, 1, 0,\n",
              "        1, 1, 0, 1, 1, 1, 0, 0, 0, 0, 1, 1, 1, 0, 0, 1, 0, 1, 0, 1, 0, 0, 0, 0,\n",
              "        1, 0, 0, 0, 1, 0, 0, 0, 0, 1, 1, 0, 0, 1, 0, 1])"
            ]
          },
          "metadata": {
            "tags": []
          },
          "execution_count": 24
        }
      ]
    }
  ]
}